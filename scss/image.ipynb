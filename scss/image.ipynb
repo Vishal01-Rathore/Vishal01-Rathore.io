{
 "cells": [
  {
   "cell_type": "code",
   "execution_count": 2,
   "metadata": {},
   "outputs": [
    {
     "name": "stdout",
     "output_type": "stream",
     "text": [
      "Defaulting to user installation because normal site-packages is not writeable\n",
      "Requirement already satisfied: pillow in /Users/mac/Library/Python/3.9/lib/python/site-packages (11.1.0)\n",
      "Conversion successful!\n"
     ]
    }
   ],
   "source": [
    "!pip3 install pillow\n",
    "from PIL import Image\n",
    "\n",
    "# Open the JPEG image\n",
    "image = Image.open(\"/Users/mac/Documents/Vishal01-Rathore.github.io/2021-06-04-portfolio-website.jpg\")\n",
    "\n",
    "# Resize the image to 1000x1194\n",
    "image = image.resize((1000, 1194))\n",
    "\n",
    "# Save as PNG\n",
    "image.save(\"project_2_portfolio.png\", format=\"PNG\")\n",
    "\n",
    "print(\"Conversion successful!\")\n"
   ]
  }
 ],
 "metadata": {
  "kernelspec": {
   "display_name": "Python 3",
   "language": "python",
   "name": "python3"
  },
  "language_info": {
   "codemirror_mode": {
    "name": "ipython",
    "version": 3
   },
   "file_extension": ".py",
   "mimetype": "text/x-python",
   "name": "python",
   "nbconvert_exporter": "python",
   "pygments_lexer": "ipython3",
   "version": "3.9.6"
  }
 },
 "nbformat": 4,
 "nbformat_minor": 2
}
